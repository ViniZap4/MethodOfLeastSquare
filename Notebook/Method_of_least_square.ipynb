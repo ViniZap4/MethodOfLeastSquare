{
  "nbformat": 4,
  "nbformat_minor": 0,
  "metadata": {
    "colab": {
      "provenance": []
    },
    "kernelspec": {
      "name": "python3",
      "display_name": "Python 3"
    },
    "language_info": {
      "name": "python"
    }
  },
  "cells": [
    {
      "cell_type": "markdown",
      "source": [
        "# Metodo do quadrado minimo"
      ],
      "metadata": {
        "id": "Gb515lQ32Zwx"
      }
    },
    {
      "cell_type": "markdown",
      "source": [
        "Importando libs necessárias"
      ],
      "metadata": {
        "id": "6x6GXtir2jnW"
      }
    },
    {
      "cell_type": "code",
      "source": [
        "import math\n",
        "import pandas as pd\n",
        "import numpy as np\n",
        "import matplotlib.pyplot as plt"
      ],
      "metadata": {
        "id": "oiDMKKa_2h-M"
      },
      "execution_count": 715,
      "outputs": []
    },
    {
      "cell_type": "markdown",
      "source": [
        "## Coeficiente de Correlação\n",
        "\n",
        "$$\n",
        "r_{x,y} = \\frac\n",
        "{n.\\sum xy - (\\sum x).(\\sum y)}\n",
        "{\\sqrt{[n. \\sum x^2 - (\\sum x)^2].[n. \\sum y^2 - (\\sum y)^2]}}\n",
        "$$\n",
        "\n"
      ],
      "metadata": {
        "id": "wQRLwXir_Gbw"
      }
    },
    {
      "cell_type": "code",
      "source": [
        "def correlationCoefficient(sumList, n):\n",
        "  numerator = (n * sumList[\"xy\"] - sumList[\"x\"]*sumList[\"y\"]) \n",
        "  denominator = (math.sqrt( (n * sumList[\"x²\"]-sumList[\"x\"]**2 ) * ( n * sumList[\"y²\"]-sumList[\"y\"]**2) ))\n",
        "  r = numerator / denominator \n",
        "\n",
        "  return r"
      ],
      "metadata": {
        "id": "QEddH0EuAUTn"
      },
      "execution_count": 716,
      "outputs": []
    },
    {
      "cell_type": "markdown",
      "source": [
        "## Gerando tabela "
      ],
      "metadata": {
        "id": "JQwcqg_OEq1H"
      }
    },
    {
      "cell_type": "code",
      "source": [
        "def GenerateWorkTable(table):\n",
        "  #x\n",
        "  xValue = table.x\n",
        "  #y\n",
        "  yValue = table.y\n",
        "  \n",
        "  x2Value, y2Value, xyValue = list(),list(),list()\n",
        "  sumX, sumY, sumX2, sumY2, sumXY = 0,0,0,0,0\n",
        "\n",
        "  for i in range(len(xValue)):\n",
        "    # add x²\n",
        "    x2Value.append(xValue[i]**2)\n",
        "    # add y²\n",
        "    y2Value.append(yValue[i]**2)\n",
        "    # add xy\n",
        "    xyValue.append(xValue[i]*yValue[i])\n",
        "\n",
        "    sumX += xValue[i]\n",
        "    sumY += yValue[i]\n",
        "    sumX2 += x2Value[i]\n",
        "    sumY2 += y2Value[i]\n",
        "    sumXY += xyValue[i]\n",
        "  \n",
        "  sumList = {\"x\":sumX, \"y\":sumY, \"x²\":sumX2, \"y²\":sumY2, \"xy\":sumXY}\n",
        "\n",
        "  n=len(xValue)\n",
        "\n",
        "  workTable = pd.DataFrame({\n",
        "      \"x\":xValue,\n",
        "      \"y\":yValue,\n",
        "      \"x²\":x2Value,\n",
        "      \"y²\":y2Value,\n",
        "      \"xy\":xyValue\n",
        "  })\n",
        "  workTable.index += 1\n",
        "\n",
        "  \n",
        "  return workTable, sumList, n"
      ],
      "metadata": {
        "id": "3oAFbC-CEowe"
      },
      "execution_count": 717,
      "outputs": []
    },
    {
      "cell_type": "markdown",
      "source": [
        "## Resolução do Método dos Mínimos quadrados\n",
        "\n",
        "$$\n",
        "\\begin{cases}\n",
        "a\\sum x^2 + b. \\sum x= \\sum xy \\\\\n",
        "a\\sum x + b.n= \\sum y\n",
        "\\end{cases}\n",
        "$$"
      ],
      "metadata": {
        "id": "UtxwDYN7YAMa"
      }
    },
    {
      "cell_type": "markdown",
      "source": [
        "resolvendo o Método dos Mínimos quadrados"
      ],
      "metadata": {
        "id": "II0rGwqk59Xu"
      }
    },
    {
      "cell_type": "code",
      "source": [
        "from pandas.io.formats import printing\n",
        "def LinearSystem(matrixCoef, independentTerm):\n",
        "\n",
        "  matrixCoefx = np.array([independentTerm]) \n",
        "    \n",
        "  # adding respective column and line\n",
        "  for i in range(len(matrixCoef)):\n",
        "    line = list()\n",
        "\n",
        "    for j in range(len(matrixCoef[i])):\n",
        "      #create line values\n",
        "\n",
        "      if(j == 0): \n",
        "        line.append(independentTerm[i]) # adding independent term how firs column in line\n",
        "      else:\n",
        "        line.append(matrixCoef[i][j]) # adding rest values\n",
        "            \n",
        "      if(j == len(matrixCoef[i])-1):\n",
        "        matrixCoefx = np.vstack([matrixCoefx,line]) #adding line to matrixCoefx  \n",
        "\n",
        "  #delete shape reference line\n",
        "  matrixCoefx = np.delete(matrixCoefx, 0, 0)\n",
        "\n",
        "  detMatrixCoef = np.linalg.det(matrixCoef)\n",
        "  detMatrixCoefx = np.linalg.det(matrixCoefx)\n",
        "\n",
        "  if detMatrixCoef !=0: \n",
        "    solve = np.linalg.solve(matrixCoef,independentTerm)  # solving linear system if is be possible and determined\n",
        "  else:\n",
        "    if detMatrixCoef ==0 and detMatrixCoefx ==0:\n",
        "      print(\"SPI: Sistema Possivel e Indeterminado\")\n",
        "    else:\n",
        "      print(\"SI: Sistema Impossivel\")\n",
        "\n",
        "\n",
        "  return solve"
      ],
      "metadata": {
        "id": "NIJfne1YocmN"
      },
      "execution_count": 718,
      "outputs": []
    },
    {
      "cell_type": "markdown",
      "source": [
        "Gerando um gráfico com os valores dados e a regressão linear gerada."
      ],
      "metadata": {
        "id": "fXjZ00Z25xI6"
      }
    },
    {
      "cell_type": "code",
      "source": [
        "def plotTable(workTable, solve, n, r):\n",
        "  f = f\"y = {round(solve[0], 5)}x + {round(solve[1], 5)}\"\n",
        "  def func(x):\n",
        "    return solve[0] * x + solve[1]\n",
        "\n",
        "  x = np.linspace(workTable.x.min(), workTable.x.max(), n)\n",
        "\n",
        "  workTable.plot(x ='x', y='y', color='Blue', kind = 'scatter', s=21, label=f\"{f}\\n r = {round(r, 6)}\")\n",
        "  plt.plot(x, func(x), color='black')\n",
        "\n",
        "  for ix, iy in zip(workTable.x, workTable.y):\n",
        "      plt.text(ix, iy, '({}, {})'.format(ix, iy))\n",
        "\n",
        "\n",
        "  plt.grid()\n",
        "  plt.show()\n",
        "  \n",
        "  return func"
      ],
      "metadata": {
        "id": "Eo1z93-SxUd2"
      },
      "execution_count": 719,
      "outputs": []
    },
    {
      "cell_type": "code",
      "source": [
        "def Resolution(table):\n",
        "  workTable, sumList, n = GenerateWorkTable(table)\n",
        "  r = correlationCoefficient(sumList, n)\n",
        "\n",
        "  # solve least square   \n",
        "  matrixCoef = np.array([ [sumList[\"x²\"], sumList[\"x\"]], [sumList[\"x\"], n] ])\n",
        "  independentTerm = [ sumList[\"xy\"] , sumList[\"y\"] ]\n",
        "\n",
        "  solve = LinearSystem(matrixCoef, independentTerm)\n",
        "\n",
        "  # generete a graph\n",
        "  func = plotTable(workTable, solve, n, r)\n",
        "\n",
        "\n",
        "  return workTable, sumList, n, r, func"
      ],
      "metadata": {
        "id": "iinxe2UMYF7d"
      },
      "execution_count": 720,
      "outputs": []
    },
    {
      "cell_type": "markdown",
      "source": [
        "## Testando"
      ],
      "metadata": {
        "id": "jDyMwP0JfE-J"
      }
    },
    {
      "cell_type": "code",
      "source": [
        "workTable, sumList, n, r, func = Resolution(pd.DataFrame({\n",
        "    \"x\" : [3,2,-1,4],\n",
        "    \"y\" : [7,5,-1,9],\n",
        "}))"
      ],
      "metadata": {
        "colab": {
          "base_uri": "https://localhost:8080/",
          "height": 279
        },
        "id": "Tuh7bgQpy_PR",
        "outputId": "49591a2c-4938-4fd5-fee3-615249b32535"
      },
      "execution_count": 721,
      "outputs": [
        {
          "output_type": "display_data",
          "data": {
            "text/plain": [
              "<Figure size 432x288 with 1 Axes>"
            ],
            "image/png": "[encoded data removed]"
          },
          "metadata": {
            "needs_background": "light"
          }
        }
      ]
    },
    {
      "cell_type": "code",
      "source": [
        "func(2)"
      ],
      "metadata": {
        "colab": {
          "base_uri": "https://localhost:8080/"
        },
        "id": "vi2Qmeyw8SC3",
        "outputId": "3683dadc-f382-462d-8c60-70ad91d41af4"
      },
      "execution_count": 722,
      "outputs": [
        {
          "output_type": "execute_result",
          "data": {
            "text/plain": [
              "5.0"
            ]
          },
          "metadata": {},
          "execution_count": 722
        }
      ]
    },
    {
      "cell_type": "code",
      "source": [
        "func(1)"
      ],
      "metadata": {
        "colab": {
          "base_uri": "https://localhost:8080/"
        },
        "id": "MfxWsA9U9I3y",
        "outputId": "684f88a2-5e6a-4021-f8c3-3e1b72a34a39"
      },
      "execution_count": 723,
      "outputs": [
        {
          "output_type": "execute_result",
          "data": {
            "text/plain": [
              "3.0"
            ]
          },
          "metadata": {},
          "execution_count": 723
        }
      ]
    },
    {
      "cell_type": "markdown",
      "source": [
        "___"
      ],
      "metadata": {
        "id": "d6DmKqcI6Gz1"
      }
    },
    {
      "cell_type": "code",
      "source": [
        "workTable, sumList, n, r, func = Resolution(pd.DataFrame({\n",
        "    \"x\" : [0,1,2,2],\n",
        "    \"y\" : [1,2,3,4],\n",
        "}))"
      ],
      "metadata": {
        "colab": {
          "base_uri": "https://localhost:8080/",
          "height": 279
        },
        "id": "GHEsMNeofEww",
        "outputId": "66f36322-6a59-4ec1-9a69-336ab742a55d"
      },
      "execution_count": 724,
      "outputs": [
        {
          "output_type": "display_data",
          "data": {
            "text/plain": [
              "<Figure size 432x288 with 1 Axes>"
            ],
            "image/png": "[encoded data removed]"
          },
          "metadata": {
            "needs_background": "light"
          }
        }
      ]
    },
    {
      "cell_type": "code",
      "source": [
        "workTable"
      ],
      "metadata": {
        "colab": {
          "base_uri": "https://localhost:8080/",
          "height": 175
        },
        "id": "jcuds3HL6XNm",
        "outputId": "9dbbd0a8-cce4-456e-da0b-6cef0064eadb"
      },
      "execution_count": 725,
      "outputs": [
        {
          "output_type": "execute_result",
          "data": {
            "text/plain": [
              "   x  y  x²  y²  xy\n",
              "1  0  1   0   1   0\n",
              "2  1  2   1   4   2\n",
              "3  2  3   4   9   6\n",
              "4  2  4   4  16   8"
            ],
            "text/html": [
              "\n",
              "  <div id=\"df-31a338fe-20be-4a63-b1ba-9ebe02d6e26d\">\n",
              "    <div class=\"colab-df-container\">\n",
              "      <div>\n",
              "<style scoped>\n",
              "    .dataframe tbody tr th:only-of-type {\n",
              "        vertical-align: middle;\n",
              "    }\n",
              "\n",
              "    .dataframe tbody tr th {\n",
              "        vertical-align: top;\n",
              "    }\n",
              "\n",
              "    .dataframe thead th {\n",
              "        text-align: right;\n",
              "    }\n",
              "</style>\n",
              "<table border=\"1\" class=\"dataframe\">\n",
              "  <thead>\n",
              "    <tr style=\"text-align: right;\">\n",
              "      <th></th>\n",
              "      <th>x</th>\n",
              "      <th>y</th>\n",
              "      <th>x²</th>\n",
              "      <th>y²</th>\n",
              "      <th>xy</th>\n",
              "    </tr>\n",
              "  </thead>\n",
              "  <tbody>\n",
              "    <tr>\n",
              "      <th>1</th>\n",
              "      <td>0</td>\n",
              "      <td>1</td>\n",
              "      <td>0</td>\n",
              "      <td>1</td>\n",
              "      <td>0</td>\n",
              "    </tr>\n",
              "    <tr>\n",
              "      <th>2</th>\n",
              "      <td>1</td>\n",
              "      <td>2</td>\n",
              "      <td>1</td>\n",
              "      <td>4</td>\n",
              "      <td>2</td>\n",
              "    </tr>\n",
              "    <tr>\n",
              "      <th>3</th>\n",
              "      <td>2</td>\n",
              "      <td>3</td>\n",
              "      <td>4</td>\n",
              "      <td>9</td>\n",
              "      <td>6</td>\n",
              "    </tr>\n",
              "    <tr>\n",
              "      <th>4</th>\n",
              "      <td>2</td>\n",
              "      <td>4</td>\n",
              "      <td>4</td>\n",
              "      <td>16</td>\n",
              "      <td>8</td>\n",
              "    </tr>\n",
              "  </tbody>\n",
              "</table>\n",
              "</div>\n",
              "      <button class=\"colab-df-convert\" onclick=\"convertToInteractive('df-31a338fe-20be-4a63-b1ba-9ebe02d6e26d')\"\n",
              "              title=\"Convert this dataframe to an interactive table.\"\n",
              "              style=\"display:none;\">\n",
              "        \n",
              "  <svg xmlns=\"http://www.w3.org/2000/svg\" height=\"24px\"viewBox=\"0 0 24 24\"\n",
              "       width=\"24px\">\n",
              "    <path d=\"M0 0h24v24H0V0z\" fill=\"none\"/>\n",
              "    <path d=\"M18.56 5.44l.94 2.06.94-2.06 2.06-.94-2.06-.94-.94-2.06-.94 2.06-2.06.94zm-11 1L8.5 8.5l.94-2.06 2.06-.94-2.06-.94L8.5 2.5l-.94 2.06-2.06.94zm10 10l.94 2.06.94-2.06 2.06-.94-2.06-.94-.94-2.06-.94 2.06-2.06.94z\"/><path d=\"M17.41 7.96l-1.37-1.37c-.4-.4-.92-.59-1.43-.59-.52 0-1.04.2-1.43.59L10.3 9.45l-7.72 7.72c-.78.78-.78 2.05 0 2.83L4 21.41c.39.39.9.59 1.41.59.51 0 1.02-.2 1.41-.59l7.78-7.78 2.81-2.81c.8-.78.8-2.07 0-2.86zM5.41 20L4 18.59l7.72-7.72 1.47 1.35L5.41 20z\"/>\n",
              "  </svg>\n",
              "      </button>\n",
              "      \n",
              "  <style>\n",
              "    .colab-df-container {\n",
              "      display:flex;\n",
              "      flex-wrap:wrap;\n",
              "      gap: 12px;\n",
              "    }\n",
              "\n",
              "    .colab-df-convert {\n",
              "      background-color: #E8F0FE;\n",
              "      border: none;\n",
              "      border-radius: 50%;\n",
              "      cursor: pointer;\n",
              "      display: none;\n",
              "      fill: #1967D2;\n",
              "      height: 32px;\n",
              "      padding: 0 0 0 0;\n",
              "      width: 32px;\n",
              "    }\n",
              "\n",
              "    .colab-df-convert:hover {\n",
              "      background-color: #E2EBFA;\n",
              "      box-shadow: 0px 1px 2px rgba(60, 64, 67, 0.3), 0px 1px 3px 1px rgba(60, 64, 67, 0.15);\n",
              "      fill: #174EA6;\n",
              "    }\n",
              "\n",
              "    [theme=dark] .colab-df-convert {\n",
              "      background-color: #3B4455;\n",
              "      fill: #D2E3FC;\n",
              "    }\n",
              "\n",
              "    [theme=dark] .colab-df-convert:hover {\n",
              "      background-color: #434B5C;\n",
              "      box-shadow: 0px 1px 3px 1px rgba(0, 0, 0, 0.15);\n",
              "      filter: drop-shadow(0px 1px 2px rgba(0, 0, 0, 0.3));\n",
              "      fill: #FFFFFF;\n",
              "    }\n",
              "  </style>\n",
              "\n",
              "      <script>\n",
              "        const buttonEl =\n",
              "          document.querySelector('#df-31a338fe-20be-4a63-b1ba-9ebe02d6e26d button.colab-df-convert');\n",
              "        buttonEl.style.display =\n",
              "          google.colab.kernel.accessAllowed ? 'block' : 'none';\n",
              "\n",
              "        async function convertToInteractive(key) {\n",
              "          const element = document.querySelector('#df-31a338fe-20be-4a63-b1ba-9ebe02d6e26d');\n",
              "          const dataTable =\n",
              "            await google.colab.kernel.invokeFunction('convertToInteractive',\n",
              "                                                     [key], {});\n",
              "          if (!dataTable) return;\n",
              "\n",
              "          const docLinkHtml = 'Like what you see? Visit the ' +\n",
              "            '<a target=\"_blank\" href=https://colab.research.google.com/notebooks/data_table.ipynb>data table notebook</a>'\n",
              "            + ' to learn more about interactive tables.';\n",
              "          element.innerHTML = '';\n",
              "          dataTable['output_type'] = 'display_data';\n",
              "          await google.colab.output.renderOutput(dataTable, element);\n",
              "          const docLink = document.createElement('div');\n",
              "          docLink.innerHTML = docLinkHtml;\n",
              "          element.appendChild(docLink);\n",
              "        }\n",
              "      </script>\n",
              "    </div>\n",
              "  </div>\n",
              "  "
            ]
          },
          "metadata": {},
          "execution_count": 725
        }
      ]
    },
    {
      "cell_type": "code",
      "source": [
        "sumList"
      ],
      "metadata": {
        "colab": {
          "base_uri": "https://localhost:8080/"
        },
        "id": "at01F-Ef6dX3",
        "outputId": "4d3bd652-dc3c-48d2-a782-ee1b2e5a4106"
      },
      "execution_count": 726,
      "outputs": [
        {
          "output_type": "execute_result",
          "data": {
            "text/plain": [
              "{'x': 5, 'y': 10, 'x²': 9, 'y²': 30, 'xy': 16}"
            ]
          },
          "metadata": {},
          "execution_count": 726
        }
      ]
    },
    {
      "cell_type": "markdown",
      "source": [
        "___"
      ],
      "metadata": {
        "id": "s5xk2Kxa6Ijo"
      }
    },
    {
      "cell_type": "code",
      "source": [
        "workTable, sumList, n, r, func = Resolution(pd.DataFrame({\n",
        "    \"x\" : [1 ,30, 5,20, 9],\n",
        "    \"y\" : [10, 3,50, 2,90],\n",
        "}))"
      ],
      "metadata": {
        "colab": {
          "base_uri": "https://localhost:8080/",
          "height": 279
        },
        "id": "UJd5jvYx7pXW",
        "outputId": "a4fc1871-d09a-4620-deb5-51a66557850a"
      },
      "execution_count": 727,
      "outputs": [
        {
          "output_type": "display_data",
          "data": {
            "text/plain": [
              "<Figure size 432x288 with 1 Axes>"
            ],
            "image/png": "[encoded data removed]"
          },
          "metadata": {
            "needs_background": "light"
          }
        }
      ]
    },
    {
      "cell_type": "code",
      "source": [
        "n"
      ],
      "metadata": {
        "colab": {
          "base_uri": "https://localhost:8080/"
        },
        "id": "B2JUKaIN9Djb",
        "outputId": "66af8e7f-b91c-4916-8205-0d5084a53dd7"
      },
      "execution_count": 728,
      "outputs": [
        {
          "output_type": "execute_result",
          "data": {
            "text/plain": [
              "5"
            ]
          },
          "metadata": {},
          "execution_count": 728
        }
      ]
    },
    {
      "cell_type": "code",
      "source": [
        "r"
      ],
      "metadata": {
        "colab": {
          "base_uri": "https://localhost:8080/"
        },
        "id": "WTk043M178EV",
        "outputId": "b3c95f1e-354f-4151-e1c2-57e273f7c417"
      },
      "execution_count": 729,
      "outputs": [
        {
          "output_type": "execute_result",
          "data": {
            "text/plain": [
              "-0.44726942138600606"
            ]
          },
          "metadata": {},
          "execution_count": 729
        }
      ]
    }
  ]
}